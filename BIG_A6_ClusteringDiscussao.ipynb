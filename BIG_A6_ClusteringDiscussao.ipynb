{
  "nbformat": 4,
  "nbformat_minor": 0,
  "metadata": {
    "colab": {
      "name": "BIG_A6_ClusteringDiscussao.ipynb",
      "provenance": [],
      "include_colab_link": true
    },
    "kernelspec": {
      "name": "python3",
      "display_name": "Python 3"
    }
  },
  "cells": [
    {
      "cell_type": "markdown",
      "metadata": {
        "id": "view-in-github",
        "colab_type": "text"
      },
      "source": [
        "<a href=\"https://colab.research.google.com/github/rafael100495/Aulas_Mackenzie/blob/main/BIG_A6_ClusteringDiscussao.ipynb\" target=\"_parent\"><img src=\"https://colab.research.google.com/assets/colab-badge.svg\" alt=\"Open In Colab\"/></a>"
      ]
    },
    {
      "cell_type": "markdown",
      "metadata": {
        "id": "J3LMBfpeHTwb"
      },
      "source": [
        "<head>\n",
        "  <meta name=\"author\" content=\"Rogério de Oliveira\">\n",
        "  <meta institution=\"author\" content=\"Universidade Presbiteriana Mackenzie\">\n",
        "</head>\n",
        "\n",
        "<img src=\"http://meusite.mackenzie.br/rogerio/mackenzie_logo/UPM.2_horizontal_vermelho.jpg\" width=300, align=\"right\">\n",
        "<!-- <h1 align=left><font size = 6, style=\"color:rgb(200,0,0)\"> optional title </font></h1> -->\n"
      ]
    },
    {
      "cell_type": "markdown",
      "metadata": {
        "id": "zQX8WQPeHTwc"
      },
      "source": [
        "# **Tarefa de Aprofundamento 6** \n",
        "## CASO: Clustering, Segmentando Países pela Força de Trabalho\n",
        "---\n",
        "\n",
        "<br>\n",
        "<br>\n",
        "<br>\n",
        "\n",
        "Com base na atividade *Tarefa de Aprofundamento 5*, **Pesquise e Discuta apenas uma** das perguntas a seguir.\n"
      ]
    },
    {
      "cell_type": "markdown",
      "metadata": {
        "id": "nGZH-j05q8WZ"
      },
      "source": [
        "### 1. Pesquise outros modelos de clusterização e exemplifique uma situação em que um desses modelos pesquisados apresenta resultados melhores que os modelos de clusterização hierárquica e kmédias. \n",
        "\n",
        "<small>\n",
        "Talvez você queira aplicar esse outro modelo aos dados da Tarefa 5 e compartilhar com os colegas. Mas isso é opcional."
      ]
    },
    {
      "cell_type": "markdown",
      "metadata": {
        "id": "Oar--2gn9EJ0"
      },
      "source": [
        "A clusterização é importante para conseguirmos agrupar os dados e analisar de forma segmentada as características, semelhanças e diferenças.\n",
        "Algumas das aplicações, estão em clientes por exemplos, para definir estratégias e promoções específicas.\n",
        "Outro modelo de cluster além do K-Média, é o Modelo de Densidade, que leva em consideração a densidade dos dados agrupados em um gráfico hipotético."
      ]
    },
    {
      "cell_type": "markdown",
      "metadata": {
        "id": "p32U1tt_9XBd"
      },
      "source": [
        "### 2. A clusterização é bastante empregada para a agrupamento de documentos como emails, páginas de notícias etc. Pesquise qual a métrica de similaridade (distância) normalmente empregada na clusterização de documentos e explique por quê. "
      ]
    },
    {
      "cell_type": "markdown",
      "metadata": {
        "id": "-tdb6x3s9XBd"
      },
      "source": [
        "Uma das métricas mais comum utilizadas para clusterização de documentos é a função stats::dist() que é usada para o calculo de distância, a função; Juntas elas recebem uma matriz de distância entre os pares de objetos.\n",
        "Também são utilizadas medidas de similaridade, onde através das distâncias, uma pode referenciar a outra, tendo em consideração a similaridade, entre dois ou mais documentos."
      ]
    },
    {
      "cell_type": "markdown",
      "metadata": {
        "id": "xR8J3aMB-TjC"
      },
      "source": [
        "## Referências"
      ]
    },
    {
      "cell_type": "markdown",
      "metadata": {
        "id": "vxyPgZ60-TjC"
      },
      "source": [
        "https://www.fiveacts.com.br/clusterizacao/\n",
        "https://www.maxwell.vrac.puc-rio.br/24787/24787_5.PDF\n",
        "https://teses.usp.br/teses/disponiveis/55/55134/tde-24012013-155903/publico/DissertacaoFrizziSRS.pdf\n",
        "http://www.leg.ufpr.br/~walmes/ensino/mintex/slides/07-similar.pdf"
      ]
    }
  ]
}