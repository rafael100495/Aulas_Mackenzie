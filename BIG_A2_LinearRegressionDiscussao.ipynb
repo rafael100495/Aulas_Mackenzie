{
  "nbformat": 4,
  "nbformat_minor": 0,
  "metadata": {
    "colab": {
      "name": "BIG_A2_LinearRegressionDiscussao.ipynb",
      "provenance": [],
      "collapsed_sections": [],
      "include_colab_link": true
    },
    "kernelspec": {
      "name": "python3",
      "display_name": "Python 3"
    }
  },
  "cells": [
    {
      "cell_type": "markdown",
      "metadata": {
        "id": "view-in-github",
        "colab_type": "text"
      },
      "source": [
        "<a href=\"https://colab.research.google.com/github/rafael100495/Aulas_Mackenzie/blob/main/BIG_A2_LinearRegressionDiscussao.ipynb\" target=\"_parent\"><img src=\"https://colab.research.google.com/assets/colab-badge.svg\" alt=\"Open In Colab\"/></a>"
      ]
    },
    {
      "cell_type": "markdown",
      "metadata": {
        "id": "J3LMBfpeHTwb"
      },
      "source": [
        "<head>\n",
        "  <meta name=\"author\" content=\"Rogério de Oliveira\">\n",
        "  <meta institution=\"author\" content=\"Universidade Presbiteriana Mackenzie\">\n",
        "</head>\n",
        "\n",
        "<img src=\"http://meusite.mackenzie.br/rogerio/mackenzie_logo/UPM.2_horizontal_vermelho.jpg\" width=300, align=\"right\">\n",
        "<!-- <h1 align=left><font size = 6, style=\"color:rgb(200,0,0)\"> optional title </font></h1> -->\n"
      ]
    },
    {
      "cell_type": "markdown",
      "metadata": {
        "id": "zQX8WQPeHTwc"
      },
      "source": [
        "# **Tarefa de Aprofundamento 2** \n",
        "## Discussão do CASO: Estimando o Preço de Imóveis em São Paulo\n",
        "---\n",
        "\n",
        "<br>\n",
        "<br>\n",
        "<br>\n",
        "\n",
        "Com base na atividade *Tarefa de Aprofundamento 1*, **Pesquise e Discuta apenas uma** das perguntas a seguir."
      ]
    },
    {
      "cell_type": "markdown",
      "metadata": {
        "id": "nGZH-j05q8WZ"
      },
      "source": [
        "### 1. Qual a consequencia prática da multicolinearidade no *hot encode* dos dados? Por que? "
      ]
    },
    {
      "cell_type": "markdown",
      "metadata": {
        "id": "Oar--2gn9EJ0"
      },
      "source": [
        "*Sua resposta aqui em 1 (um) parágrafo.*"
      ]
    },
    {
      "cell_type": "markdown",
      "source": [
        "A princício, pesquisei a respeito da multicolinearidade:\n",
        "\"..A multicolinearidade aumenta os erros padrão dos coeficientes. O aumento dos erros padrão, por sua vez, significa que os coeficientes para algumas variáveis independentes podem não ser significativamente diferentes de 0. Em outras palavras, ao super-inflacionar os erros padrão, a multicolinearidade torna algumas variáveis estatisticamente insignificantes quando deveriam ser significativas. Sem multicolinearidade (e, portanto, com erros padrão mais baixos), esses coeficientes poderiam ser significativos.\"\n",
        "Também pesquisei a respeito do \"Hot Encode\":\n",
        "Alguns algoritmos conseguem trabalhar diretamente com variáveis categóricas, maioria dos casos dos modelos de árvore de decisão por exemplo. Entretanto, em sua maioria, os modelos necessitam que sejam transformados em valor. E para isso, devemos nos atentar em duas etapas basicamente: Integer Encoding e One-Hot Encoding.\n",
        "\n",
        "Respondendo a questão, precisamos compreender a classificação e a importância de cada variável, onde podemos até mesmo transformá-las em binárias para transformar os dados e trazer para o nosso modelo. \n"
      ],
      "metadata": {
        "id": "WSy_EeLPcL-l"
      }
    },
    {
      "cell_type": "markdown",
      "metadata": {
        "id": "p32U1tt_9XBd"
      },
      "source": [
        "### 2. Na atividade você provavelmente empregou como melhor modelo um modelo com o `rsquared` maior (não o `rsquared_adj`!). Justifique. "
      ]
    },
    {
      "cell_type": "markdown",
      "metadata": {
        "id": "-tdb6x3s9XBd"
      },
      "source": [
        "Para responder esta questão, também pesquisei, além do material disponibilizado, as principais diferenças entre o R2 e R2-Ajustado.\n",
        "O R2 possui alguns problemas, como aumentar sempre que é adicionado uma nova variável preditora, tentando modelar ruídos aleatórios nos dados.\n",
        "Já o R2-Ajustado, ele determina a importância desta nova variável inserida no modelo. \n",
        "Neste caso, utilizei o R2 pois ele tem o mesmo valor que o R2-Ajustado."
      ]
    },
    {
      "cell_type": "markdown",
      "metadata": {
        "id": "xR8J3aMB-TjC"
      },
      "source": [
        "## Referências"
      ]
    },
    {
      "cell_type": "markdown",
      "metadata": {
        "id": "vxyPgZ60-TjC"
      },
      "source": [
        "https://blog.minitab.com/pt/basta-lidando-com-a-multicolinearidade-na-analise-de-regressao#:~:text=A%20multicolinearidade%20aumenta%20os%20erros,ser%20significativamente%20diferentes%20de%200.\n",
        "https://arthurlambletvaz.medium.com/one-hot-encoding-o-que-%C3%A9-cd2e8d302ae0\n",
        "https://blog.minitab.com/pt/analise-de-regressao-multipla-use-o-r-quadrado-ajustado-e-o-r-quadrado-predito-para-incluir-o-numero-correto-de-variaveis"
      ]
    }
  ]
}