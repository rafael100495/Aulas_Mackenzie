{
  "nbformat": 4,
  "nbformat_minor": 0,
  "metadata": {
    "kernelspec": {
      "display_name": "Python 3",
      "language": "python",
      "name": "python3"
    },
    "language_info": {
      "codemirror_mode": {
        "name": "ipython",
        "version": 3
      },
      "file_extension": ".py",
      "mimetype": "text/x-python",
      "name": "python",
      "nbconvert_exporter": "python",
      "pygments_lexer": "ipython3",
      "version": "3.7.4"
    },
    "colab": {
      "name": "BIG_A5_Clustering.ipynb",
      "provenance": [],
      "include_colab_link": true
    }
  },
  "cells": [
    {
      "cell_type": "markdown",
      "metadata": {
        "id": "view-in-github",
        "colab_type": "text"
      },
      "source": [
        "<a href=\"https://colab.research.google.com/github/rafael100495/Aulas_Mackenzie/blob/main/BIG_A5_Clustering.ipynb\" target=\"_parent\"><img src=\"https://colab.research.google.com/assets/colab-badge.svg\" alt=\"Open In Colab\"/></a>"
      ]
    },
    {
      "cell_type": "markdown",
      "metadata": {
        "id": "GXIqdLo14wj3"
      },
      "source": [
        "<head>\n",
        "  <meta name=\"author\" content=\"Rogério de Oliveira\">\n",
        "  <meta institution=\"author\" content=\"Universidade Presbiteriana Mackenzie\">\n",
        "</head>\n",
        "\n",
        "<img src=\"http://meusite.mackenzie.br/rogerio/mackenzie_logo/UPM.2_horizontal_vermelho.jpg\" width=300, align=\"right\">\n",
        "<!-- <h1 align=left><font size = 6, style=\"color:rgb(200,0,0)\"> optional title </font></h1> -->\n"
      ]
    },
    {
      "cell_type": "markdown",
      "metadata": {
        "id": "zQX8WQPeHTwc"
      },
      "source": [
        "# **Tarefa de Aprofundamento 5** \n",
        "## CASO: Clustering, Segmentando Países pela Força de Trabalho \n",
        "---\n",
        "<br>\n",
        "<br>\n",
        "\n",
        "\n",
        "\n"
      ]
    },
    {
      "cell_type": "markdown",
      "metadata": {
        "id": "Py6w383Wz2xs"
      },
      "source": [
        "A partir deste notebook você vai criar modelos de clusterização para os países com base em suas características de força de trabalho. \n",
        "\n",
        "Em seguida, com base nos seus resultados, responda o **questionário do Moodle**. "
      ]
    },
    {
      "cell_type": "markdown",
      "metadata": {
        "id": "nGZH-j05q8WZ"
      },
      "source": [
        "# Basic imports"
      ]
    },
    {
      "cell_type": "code",
      "metadata": {
        "id": "T6FFPMh10lvO"
      },
      "source": [
        "import numpy as np\n",
        "import pandas as pd\n",
        "import matplotlib.pyplot as plt\n",
        "%matplotlib inline\n",
        "import seaborn as sns"
      ],
      "execution_count": 206,
      "outputs": []
    },
    {
      "cell_type": "markdown",
      "metadata": {
        "id": "wF7X-vnhW3OJ"
      },
      "source": [
        "# Exploração dos Dados\n",
        "\n"
      ]
    },
    {
      "cell_type": "markdown",
      "metadata": {
        "id": "pfByZcOTDFDL"
      },
      "source": [
        "Esta base de dados contém a percentagem da população empregada em diferentes indústrias em 26 países europeus em 1979. \n",
        "\n",
        "- Country - o nome do país (identificador)\n",
        "- Agr -% da força de trabalho empregada na agricultura\n",
        "- Min -% na mineração\n",
        "- Man -% na fabricação\n",
        "- PS -% nas indústrias de fornecimento de energia\n",
        "- Con - % em construção\n",
        "- SI -% nas indústrias de serviços\n",
        "- Fin -% em finanças\n",
        "- SPS -% em serviços sociais e pessoais\n",
        "- TC -% em transporte e comunicações\n",
        "\n",
        "Fonte: https://statsandr.com/ \n",
        "\n",
        "**Objetivo:** Segmentar os países em grupos para aplicação de diferentes políticas públicas empregando Clusterização."
      ]
    },
    {
      "cell_type": "code",
      "metadata": {
        "colab": {
          "base_uri": "https://localhost:8080/",
          "height": 206
        },
        "id": "P6IHT8bPSDS8",
        "outputId": "c29149e4-eb30-4300-d99f-37768894bf47"
      },
      "source": [
        "df = pd.read_csv('http://meusite.mackenzie.br/rogerio/data_load/Eurojobs.csv')\n",
        "df.head()"
      ],
      "execution_count": 207,
      "outputs": [
        {
          "output_type": "execute_result",
          "data": {
            "text/plain": [
              "      Country   Agr  Min   Man   PS  Con    SI  Fin   SPS   TC\n",
              "0     Belgium   3.3  0.9  27.6  0.9  8.2  19.1  6.2  26.6  7.2\n",
              "1     Denmark   9.2  0.1  21.8  0.6  8.3  14.6  6.5  32.2  7.1\n",
              "2      France  10.8  0.8  27.5  0.9  8.9  16.8  6.0  22.6  5.7\n",
              "3  W. Germany   6.7  1.3  35.8  0.9  7.3  14.4  5.0  22.3  6.1\n",
              "4     Ireland  23.2  1.0  20.7  1.3  7.5  16.8  2.8  20.8  6.1"
            ],
            "text/html": [
              "\n",
              "  <div id=\"df-ada8e61e-c9d9-42cb-8b38-85541a0a2cf7\">\n",
              "    <div class=\"colab-df-container\">\n",
              "      <div>\n",
              "<style scoped>\n",
              "    .dataframe tbody tr th:only-of-type {\n",
              "        vertical-align: middle;\n",
              "    }\n",
              "\n",
              "    .dataframe tbody tr th {\n",
              "        vertical-align: top;\n",
              "    }\n",
              "\n",
              "    .dataframe thead th {\n",
              "        text-align: right;\n",
              "    }\n",
              "</style>\n",
              "<table border=\"1\" class=\"dataframe\">\n",
              "  <thead>\n",
              "    <tr style=\"text-align: right;\">\n",
              "      <th></th>\n",
              "      <th>Country</th>\n",
              "      <th>Agr</th>\n",
              "      <th>Min</th>\n",
              "      <th>Man</th>\n",
              "      <th>PS</th>\n",
              "      <th>Con</th>\n",
              "      <th>SI</th>\n",
              "      <th>Fin</th>\n",
              "      <th>SPS</th>\n",
              "      <th>TC</th>\n",
              "    </tr>\n",
              "  </thead>\n",
              "  <tbody>\n",
              "    <tr>\n",
              "      <th>0</th>\n",
              "      <td>Belgium</td>\n",
              "      <td>3.3</td>\n",
              "      <td>0.9</td>\n",
              "      <td>27.6</td>\n",
              "      <td>0.9</td>\n",
              "      <td>8.2</td>\n",
              "      <td>19.1</td>\n",
              "      <td>6.2</td>\n",
              "      <td>26.6</td>\n",
              "      <td>7.2</td>\n",
              "    </tr>\n",
              "    <tr>\n",
              "      <th>1</th>\n",
              "      <td>Denmark</td>\n",
              "      <td>9.2</td>\n",
              "      <td>0.1</td>\n",
              "      <td>21.8</td>\n",
              "      <td>0.6</td>\n",
              "      <td>8.3</td>\n",
              "      <td>14.6</td>\n",
              "      <td>6.5</td>\n",
              "      <td>32.2</td>\n",
              "      <td>7.1</td>\n",
              "    </tr>\n",
              "    <tr>\n",
              "      <th>2</th>\n",
              "      <td>France</td>\n",
              "      <td>10.8</td>\n",
              "      <td>0.8</td>\n",
              "      <td>27.5</td>\n",
              "      <td>0.9</td>\n",
              "      <td>8.9</td>\n",
              "      <td>16.8</td>\n",
              "      <td>6.0</td>\n",
              "      <td>22.6</td>\n",
              "      <td>5.7</td>\n",
              "    </tr>\n",
              "    <tr>\n",
              "      <th>3</th>\n",
              "      <td>W. Germany</td>\n",
              "      <td>6.7</td>\n",
              "      <td>1.3</td>\n",
              "      <td>35.8</td>\n",
              "      <td>0.9</td>\n",
              "      <td>7.3</td>\n",
              "      <td>14.4</td>\n",
              "      <td>5.0</td>\n",
              "      <td>22.3</td>\n",
              "      <td>6.1</td>\n",
              "    </tr>\n",
              "    <tr>\n",
              "      <th>4</th>\n",
              "      <td>Ireland</td>\n",
              "      <td>23.2</td>\n",
              "      <td>1.0</td>\n",
              "      <td>20.7</td>\n",
              "      <td>1.3</td>\n",
              "      <td>7.5</td>\n",
              "      <td>16.8</td>\n",
              "      <td>2.8</td>\n",
              "      <td>20.8</td>\n",
              "      <td>6.1</td>\n",
              "    </tr>\n",
              "  </tbody>\n",
              "</table>\n",
              "</div>\n",
              "      <button class=\"colab-df-convert\" onclick=\"convertToInteractive('df-ada8e61e-c9d9-42cb-8b38-85541a0a2cf7')\"\n",
              "              title=\"Convert this dataframe to an interactive table.\"\n",
              "              style=\"display:none;\">\n",
              "        \n",
              "  <svg xmlns=\"http://www.w3.org/2000/svg\" height=\"24px\"viewBox=\"0 0 24 24\"\n",
              "       width=\"24px\">\n",
              "    <path d=\"M0 0h24v24H0V0z\" fill=\"none\"/>\n",
              "    <path d=\"M18.56 5.44l.94 2.06.94-2.06 2.06-.94-2.06-.94-.94-2.06-.94 2.06-2.06.94zm-11 1L8.5 8.5l.94-2.06 2.06-.94-2.06-.94L8.5 2.5l-.94 2.06-2.06.94zm10 10l.94 2.06.94-2.06 2.06-.94-2.06-.94-.94-2.06-.94 2.06-2.06.94z\"/><path d=\"M17.41 7.96l-1.37-1.37c-.4-.4-.92-.59-1.43-.59-.52 0-1.04.2-1.43.59L10.3 9.45l-7.72 7.72c-.78.78-.78 2.05 0 2.83L4 21.41c.39.39.9.59 1.41.59.51 0 1.02-.2 1.41-.59l7.78-7.78 2.81-2.81c.8-.78.8-2.07 0-2.86zM5.41 20L4 18.59l7.72-7.72 1.47 1.35L5.41 20z\"/>\n",
              "  </svg>\n",
              "      </button>\n",
              "      \n",
              "  <style>\n",
              "    .colab-df-container {\n",
              "      display:flex;\n",
              "      flex-wrap:wrap;\n",
              "      gap: 12px;\n",
              "    }\n",
              "\n",
              "    .colab-df-convert {\n",
              "      background-color: #E8F0FE;\n",
              "      border: none;\n",
              "      border-radius: 50%;\n",
              "      cursor: pointer;\n",
              "      display: none;\n",
              "      fill: #1967D2;\n",
              "      height: 32px;\n",
              "      padding: 0 0 0 0;\n",
              "      width: 32px;\n",
              "    }\n",
              "\n",
              "    .colab-df-convert:hover {\n",
              "      background-color: #E2EBFA;\n",
              "      box-shadow: 0px 1px 2px rgba(60, 64, 67, 0.3), 0px 1px 3px 1px rgba(60, 64, 67, 0.15);\n",
              "      fill: #174EA6;\n",
              "    }\n",
              "\n",
              "    [theme=dark] .colab-df-convert {\n",
              "      background-color: #3B4455;\n",
              "      fill: #D2E3FC;\n",
              "    }\n",
              "\n",
              "    [theme=dark] .colab-df-convert:hover {\n",
              "      background-color: #434B5C;\n",
              "      box-shadow: 0px 1px 3px 1px rgba(0, 0, 0, 0.15);\n",
              "      filter: drop-shadow(0px 1px 2px rgba(0, 0, 0, 0.3));\n",
              "      fill: #FFFFFF;\n",
              "    }\n",
              "  </style>\n",
              "\n",
              "      <script>\n",
              "        const buttonEl =\n",
              "          document.querySelector('#df-ada8e61e-c9d9-42cb-8b38-85541a0a2cf7 button.colab-df-convert');\n",
              "        buttonEl.style.display =\n",
              "          google.colab.kernel.accessAllowed ? 'block' : 'none';\n",
              "\n",
              "        async function convertToInteractive(key) {\n",
              "          const element = document.querySelector('#df-ada8e61e-c9d9-42cb-8b38-85541a0a2cf7');\n",
              "          const dataTable =\n",
              "            await google.colab.kernel.invokeFunction('convertToInteractive',\n",
              "                                                     [key], {});\n",
              "          if (!dataTable) return;\n",
              "\n",
              "          const docLinkHtml = 'Like what you see? Visit the ' +\n",
              "            '<a target=\"_blank\" href=https://colab.research.google.com/notebooks/data_table.ipynb>data table notebook</a>'\n",
              "            + ' to learn more about interactive tables.';\n",
              "          element.innerHTML = '';\n",
              "          dataTable['output_type'] = 'display_data';\n",
              "          await google.colab.output.renderOutput(dataTable, element);\n",
              "          const docLink = document.createElement('div');\n",
              "          docLink.innerHTML = docLinkHtml;\n",
              "          element.appendChild(docLink);\n",
              "        }\n",
              "      </script>\n",
              "    </div>\n",
              "  </div>\n",
              "  "
            ]
          },
          "metadata": {},
          "execution_count": 207
        }
      ]
    },
    {
      "cell_type": "markdown",
      "metadata": {
        "id": "1f8-sl3PYF3i"
      },
      "source": [
        "## Inspecione os dados"
      ]
    },
    {
      "cell_type": "code",
      "metadata": {
        "id": "b9pggocxSZUD",
        "outputId": "8e3245e3-4261-497a-e834-9332eaf02871",
        "colab": {
          "base_uri": "https://localhost:8080/"
        }
      },
      "source": [
        "descricao = df.describe()\n",
        "moda = df.mode()\n",
        "print(descricao)\n",
        "print('=======#======= MODA =======#=======')\n",
        "print(moda)\n",
        "print('=======#======= QTD. DE DADOS NULOS =======#=======')\n",
        "print(df.isna().sum())\n",
        "print('=======#======= HEAD =======#=======')\n",
        "print(df.head)\n",
        "#para inspecionar, gosto de utilizar o describe, pois ele nos tras a contagem, media, minimo, máximo, quantis e etc.\n",
        "#também consigo visualizar que as colunas B, C e D possuem dados nulos."
      ],
      "execution_count": 208,
      "outputs": [
        {
          "output_type": "stream",
          "name": "stdout",
          "text": [
            "             Agr        Min        Man         PS        Con         SI  \\\n",
            "count  26.000000  26.000000  26.000000  26.000000  26.000000  26.000000   \n",
            "mean   19.130769   1.253846  27.007692   0.907692   8.165385  12.957692   \n",
            "std    15.546569   0.970044   7.007763   0.376216   1.645586   4.575253   \n",
            "min     2.700000   0.100000   7.900000   0.100000   2.800000   5.200000   \n",
            "25%     7.700000   0.525000  23.000000   0.600000   7.525000   9.250000   \n",
            "50%    14.450000   0.950000  27.550000   0.850000   8.350000  14.400000   \n",
            "75%    23.675000   1.800000  30.200000   1.175000   8.975000  16.875000   \n",
            "max    66.800000   3.100000  41.200000   1.900000  11.500000  19.100000   \n",
            "\n",
            "             Fin        SPS         TC  \n",
            "count  26.000000  26.000000  26.000000  \n",
            "mean    4.000000  20.023077   6.546154  \n",
            "std     2.806564   6.829542   1.391469  \n",
            "min     0.500000   5.300000   3.200000  \n",
            "25%     1.225000  16.250000   5.700000  \n",
            "50%     4.650000  19.650000   6.700000  \n",
            "75%     5.925000  24.125000   7.075000  \n",
            "max    11.300000  32.400000   9.400000  \n",
            "=======#======= MODA =======#=======\n",
            "           Country  Agr  Min   Man   PS  Con    SI  Fin   SPS   TC\n",
            "0          Austria  7.7  0.1  25.9  0.6  8.2  16.8  0.9   5.3  5.7\n",
            "1          Belgium  NaN  0.4  27.6  NaN  8.4   NaN  NaN  11.0  NaN\n",
            "2         Bulgaria  NaN  0.6  30.2  NaN  8.7   NaN  NaN  11.7  NaN\n",
            "3   Czechoslovakia  NaN  0.8   NaN  NaN  9.2   NaN  NaN  11.8  NaN\n",
            "4          Denmark  NaN  1.4   NaN  NaN  NaN   NaN  NaN  11.9  NaN\n",
            "5       E. Germany  NaN  2.9   NaN  NaN  NaN   NaN  NaN  15.4  NaN\n",
            "6          Finland  NaN  3.1   NaN  NaN  NaN   NaN  NaN  16.1  NaN\n",
            "7           France  NaN  NaN   NaN  NaN  NaN   NaN  NaN  16.7  NaN\n",
            "8           Greece  NaN  NaN   NaN  NaN  NaN   NaN  NaN  16.8  NaN\n",
            "9          Hungary  NaN  NaN   NaN  NaN  NaN   NaN  NaN  17.2  NaN\n",
            "10         Ireland  NaN  NaN   NaN  NaN  NaN   NaN  NaN  17.9  NaN\n",
            "11           Italy  NaN  NaN   NaN  NaN  NaN   NaN  NaN  18.2  NaN\n",
            "12      Luxembourg  NaN  NaN   NaN  NaN  NaN   NaN  NaN  19.2  NaN\n",
            "13     Netherlands  NaN  NaN   NaN  NaN  NaN   NaN  NaN  20.1  NaN\n",
            "14          Norway  NaN  NaN   NaN  NaN  NaN   NaN  NaN  20.8  NaN\n",
            "15          Poland  NaN  NaN   NaN  NaN  NaN   NaN  NaN  22.1  NaN\n",
            "16        Portugal  NaN  NaN   NaN  NaN  NaN   NaN  NaN  22.3  NaN\n",
            "17         Rumania  NaN  NaN   NaN  NaN  NaN   NaN  NaN  22.6  NaN\n",
            "18           Spain  NaN  NaN   NaN  NaN  NaN   NaN  NaN  23.6  NaN\n",
            "19          Sweden  NaN  NaN   NaN  NaN  NaN   NaN  NaN  24.3  NaN\n",
            "20     Switzerland  NaN  NaN   NaN  NaN  NaN   NaN  NaN  26.6  NaN\n",
            "21          Turkey  NaN  NaN   NaN  NaN  NaN   NaN  NaN  27.6  NaN\n",
            "22            USSR  NaN  NaN   NaN  NaN  NaN   NaN  NaN  28.3  NaN\n",
            "23  United Kingdom  NaN  NaN   NaN  NaN  NaN   NaN  NaN  28.5  NaN\n",
            "24      W. Germany  NaN  NaN   NaN  NaN  NaN   NaN  NaN  32.2  NaN\n",
            "25      Yugoslavia  NaN  NaN   NaN  NaN  NaN   NaN  NaN  32.4  NaN\n",
            "=======#======= QTD. DE DADOS NULOS =======#=======\n",
            "Country    0\n",
            "Agr        0\n",
            "Min        0\n",
            "Man        0\n",
            "PS         0\n",
            "Con        0\n",
            "SI         0\n",
            "Fin        0\n",
            "SPS        0\n",
            "TC         0\n",
            "dtype: int64\n",
            "=======#======= HEAD =======#=======\n",
            "<bound method NDFrame.head of            Country   Agr  Min   Man   PS   Con    SI   Fin   SPS   TC\n",
            "0          Belgium   3.3  0.9  27.6  0.9   8.2  19.1   6.2  26.6  7.2\n",
            "1          Denmark   9.2  0.1  21.8  0.6   8.3  14.6   6.5  32.2  7.1\n",
            "2           France  10.8  0.8  27.5  0.9   8.9  16.8   6.0  22.6  5.7\n",
            "3       W. Germany   6.7  1.3  35.8  0.9   7.3  14.4   5.0  22.3  6.1\n",
            "4          Ireland  23.2  1.0  20.7  1.3   7.5  16.8   2.8  20.8  6.1\n",
            "5            Italy  15.9  0.6  27.6  0.5  10.0  18.1   1.6  20.1  5.7\n",
            "6       Luxembourg   7.7  3.1  30.8  0.8   9.2  18.5   4.6  19.2  6.2\n",
            "7      Netherlands   6.3  0.1  22.5  1.0   9.9  18.0   6.8  28.5  6.8\n",
            "8   United Kingdom   2.7  1.4  30.2  1.4   6.9  16.9   5.7  28.3  6.4\n",
            "9          Austria  12.7  1.1  30.2  1.4   9.0  16.8   4.9  16.8  7.0\n",
            "10         Finland  13.0  0.4  25.9  1.3   7.4  14.7   5.5  24.3  7.6\n",
            "11          Greece  41.4  0.6  17.6  0.6   8.1  11.5   2.4  11.0  6.7\n",
            "12          Norway   9.0  0.5  22.4  0.8   8.6  16.9   4.7  27.6  9.4\n",
            "13        Portugal  27.8  0.3  24.5  0.6   8.4  13.3   2.7  16.7  5.7\n",
            "14           Spain  22.9  0.8  28.5  0.7  11.5   9.7   8.5  11.8  5.5\n",
            "15          Sweden   6.1  0.4  25.9  0.8   7.2  14.4   6.0  32.4  6.8\n",
            "16     Switzerland   7.7  0.2  37.8  0.8   9.5  17.5   5.3  15.4  5.7\n",
            "17          Turkey  66.8  0.7   7.9  0.1   2.8   5.2   1.1  11.9  3.2\n",
            "18        Bulgaria  23.6  1.9  32.3  0.6   7.9   8.0   0.7  18.2  6.7\n",
            "19  Czechoslovakia  16.5  2.9  35.5  1.2   8.7   9.2   0.9  17.9  7.0\n",
            "20      E. Germany   4.2  2.9  41.2  1.3   7.6  11.2   1.2  22.1  8.4\n",
            "21         Hungary  21.7  3.1  29.6  1.9   8.2   9.4   0.9  17.2  8.0\n",
            "22          Poland  31.1  2.5  25.7  0.9   8.4   7.5   0.9  16.1  6.9\n",
            "23         Rumania  34.7  2.1  30.1  0.6   8.7   5.9   1.3  11.7  5.0\n",
            "24            USSR  23.7  1.4  25.8  0.6   9.2   6.1   0.5  23.6  9.3\n",
            "25      Yugoslavia  48.7  1.5  16.8  1.1   4.9   6.4  11.3   5.3  4.0>\n"
          ]
        }
      ]
    },
    {
      "cell_type": "markdown",
      "metadata": {
        "id": "qJUllMOaXMHp"
      },
      "source": [
        "## Preparação dos dados\n",
        "\n",
        "Normalize os dados o `StandardScaler` (melhor) ou a função `scale`.\n",
        "\n",
        "$$ z_i = \\frac{x_i - \\bar{x}}{\\sigma(x)}$$\n",
        "\n",
        "E não esqueça de excluir dados não úteis ao treinamento. Depois de normalizar os dados os valores devem apresentar média próxima de 0 e desvio padrão próximo de 1."
      ]
    },
    {
      "cell_type": "code",
      "metadata": {
        "id": "Vl2mpSUUTgwS",
        "outputId": "2e113688-bb3d-4d3c-b35e-432fb5738b43",
        "colab": {
          "base_uri": "https://localhost:8080/"
        }
      },
      "source": [
        "from sklearn.preprocessing import StandardScaler\n",
        "df = df.drop(columns=['Country'])\n",
        "\n",
        "scaler = StandardScaler() \n",
        "scaler.fit(df)\n",
        "X = scaler.transform(df)\n",
        "X[0:10]"
      ],
      "execution_count": 211,
      "outputs": [
        {
          "output_type": "execute_result",
          "data": {
            "text/plain": [
              "array([[-1.03844649, -0.37199739,  0.08619551, -0.02085144,  0.02145187,\n",
              "         1.3690936 ,  0.79940055,  0.9820822 ,  0.47920226],\n",
              "       [-0.65142586, -1.21303495, -0.75784885, -0.83405766,  0.08342395,\n",
              "         0.36606322,  0.90840971,  1.81828787,  0.40591251],\n",
              "       [-0.54647111, -0.47712708,  0.07164302, -0.02085144,  0.4552564 ,\n",
              "         0.85643363,  0.72672777,  0.38479244, -0.62014411],\n",
              "       [-0.81541765,  0.0485214 ,  1.27949961, -0.02085144, -0.53629681,\n",
              "         0.32148409,  0.36336389,  0.33999571, -0.32698507],\n",
              "       [ 0.26692818, -0.26686769, -0.91792623,  1.06342351, -0.41235266,\n",
              "         0.85643363, -0.43603666,  0.11601205, -0.32698507],\n",
              "       [-0.21192785, -0.68738647,  0.08619551, -1.10512639,  1.13694923,\n",
              "         1.14619796, -0.87207332,  0.01148634, -0.62014411],\n",
              "       [-0.74982093,  1.94085592,  0.55187516, -0.29192018,  0.64117263,\n",
              "         1.23535621,  0.21801833, -0.12290385, -0.25369532],\n",
              "       [-0.84165634, -1.21303495, -0.65598143,  0.2502173 ,  1.07497715,\n",
              "         1.12390839,  1.01741888,  1.26579484,  0.18604323],\n",
              "       [-1.07780452,  0.15365109,  0.46456023,  1.33449225, -0.78418511,\n",
              "         0.87872319,  0.6177186 ,  1.23593035, -0.1071158 ],\n",
              "       [-0.42183735, -0.16173799,  0.46456023,  1.33449225,  0.51722848,\n",
              "         0.85643363,  0.3270275 , -0.48127771,  0.33262275]])"
            ]
          },
          "metadata": {},
          "execution_count": 211
        }
      ]
    },
    {
      "cell_type": "markdown",
      "metadata": {
        "id": "379oIRQiYY2C"
      },
      "source": [
        "## Número de Clusters\n",
        "\n",
        "(Moodle) **Q1**. Qual o melhor número de clusters pela *regra do cotovelo* e pelo valor médio de silhueta aplicanaod o `kmedias`? (verifique de 2 a 10 clusters)\n",
        "\n",
        "> Empregue `random_state= 1234` no `KMeans`. Não empregue outros parâmetros não solicitados.   \n",
        "\n"
      ]
    },
    {
      "cell_type": "code",
      "metadata": {
        "id": "h07ThSkD843k",
        "outputId": "0aa1db27-1634-47a6-c9a8-ce88945fbd54",
        "colab": {
          "base_uri": "https://localhost:8080/",
          "height": 296
        }
      },
      "source": [
        "from sklearn.cluster import KMeans\n",
        "\n",
        "def inercia(X=X, kmin=2, kmax=10):\n",
        "  inertia = []\n",
        "  for n in range(kmin , kmax+1):\n",
        "      clf = KMeans(n_clusters = n , random_state= 1234)\n",
        "      clf.fit(X)\n",
        "      inertia.append(clf.inertia_)\n",
        "      \n",
        "  plt.figure(figsize = (8, 4))\n",
        "  plt.plot(np.arange(1 , 11) , inertia , 'ko')\n",
        "  plt.plot(np.arange(1 , 11) , inertia , '-' , alpha = 0.5)\n",
        "  plt.xlabel('Number of Clusters') , plt.ylabel('Inertia')\n",
        "  plt.title('Kmeans Inércia', fontsize=14, weight='bold')\n",
        "  return inertia\n",
        "\n",
        "inertia = inercia(X,1,10)\n",
        "# adicionado depois... ;-)\n",
        "plt.plot(3 , inertia[2] , 'P', alpha = 1, color = 'red')\n",
        "plt.annotate('Elbow Point', (3 , inertia[2]), \n",
        "            xytext=(10, 40), fontsize=14,\n",
        "            textcoords='offset points', \n",
        "            color='grey',arrowprops=dict(facecolor='black',width=0.1))\n",
        "\n",
        "plt.show()\n"
      ],
      "execution_count": 212,
      "outputs": [
        {
          "output_type": "display_data",
          "data": {
            "text/plain": [
              "<Figure size 576x288 with 1 Axes>"
            ],
            "image/png": "[encoded data removed]"
          },
          "metadata": {
            "needs_background": "light"
          }
        }
      ]
    },
    {
      "cell_type": "markdown",
      "source": [],
      "metadata": {
        "id": "6lgOooOJ6DvN"
      }
    },
    {
      "cell_type": "code",
      "metadata": {
        "id": "tL_XAAn-75yV",
        "outputId": "bf97e273-a14b-4b3e-fa09-a92daf90e73d",
        "colab": {
          "base_uri": "https://localhost:8080/"
        }
      },
      "source": [
        "from sklearn import metrics\n",
        "\n",
        "for n_clusters in range(2,10):\n",
        "  clf = KMeans(n_clusters = n_clusters, random_state = 1234)\n",
        "  clf.fit(X)\n",
        "  labels = clf.labels_\n",
        "  print('Silhueta média para', n_clusters, 'clusters: ', np.round(metrics.silhouette_score(X, labels, metric='euclidean'),3))\n"
      ],
      "execution_count": 213,
      "outputs": [
        {
          "output_type": "stream",
          "name": "stdout",
          "text": [
            "Silhueta média para 2 clusters:  0.323\n",
            "Silhueta média para 3 clusters:  0.278\n",
            "Silhueta média para 4 clusters:  0.231\n",
            "Silhueta média para 5 clusters:  0.202\n",
            "Silhueta média para 6 clusters:  0.164\n",
            "Silhueta média para 7 clusters:  0.2\n",
            "Silhueta média para 8 clusters:  0.194\n",
            "Silhueta média para 9 clusters:  0.182\n"
          ]
        }
      ]
    },
    {
      "cell_type": "markdown",
      "metadata": {
        "id": "sCsvMhyq8OR8"
      },
      "source": [
        "(Moodle) **Q2**. Qual ao valor médio de silhueta para o melhor número de clusters na clusterização hierárquica (aglomerativa) para os esquemas de ligação (*linkage*) `ward` (padrão do `scikit-learn`),`complete` e `single`? (verifique de 2 a 10 clusters)\n",
        "\n",
        "> Não empregue outros parâmetros não solicitados. "
      ]
    },
    {
      "cell_type": "markdown",
      "source": [
        "O melhor valor para o número de clusters é o 3.\n",
        "\n"
      ],
      "metadata": {
        "id": "0IZ8uB7EGY40"
      }
    },
    {
      "cell_type": "code",
      "metadata": {
        "id": "eMaTPiZbUjVW",
        "outputId": "495ba6ec-5c33-4888-f7fb-758f9379af81",
        "colab": {
          "base_uri": "https://localhost:8080/"
        }
      },
      "source": [
        "from sklearn.cluster import AgglomerativeClustering\n",
        "\n",
        "#Esquema de ligação Ward - Padrão do Scikit-Learn\n",
        "\n",
        "ward2 = AgglomerativeClustering(n_clusters=2, affinity='euclidean', linkage='ward') \n",
        "ward3 = AgglomerativeClustering(n_clusters=3, affinity='euclidean', linkage='ward') \n",
        "ward4 = AgglomerativeClustering(n_clusters=4, affinity='euclidean', linkage='ward') \n",
        "ward5 = AgglomerativeClustering(n_clusters=5, affinity='euclidean', linkage='ward') \n",
        "ward6 = AgglomerativeClustering(n_clusters=6, affinity='euclidean', linkage='ward') \n",
        "ward7 = AgglomerativeClustering(n_clusters=7, affinity='euclidean', linkage='ward') \n",
        "ward8 = AgglomerativeClustering(n_clusters=8, affinity='euclidean', linkage='ward') \n",
        "ward9 = AgglomerativeClustering(n_clusters=9, affinity='euclidean', linkage='ward') \n",
        "ward10 = AgglomerativeClustering(n_clusters=10, affinity='euclidean', linkage='ward') \n",
        "\n",
        "ward2.fit(X)\n",
        "ward3.fit(X)\n",
        "ward4.fit(X)\n",
        "ward5.fit(X)\n",
        "ward6.fit(X)\n",
        "ward7.fit(X)\n",
        "ward8.fit(X)\n",
        "ward9.fit(X)\n",
        "ward10.fit(X)\n",
        "\n",
        "#Esquema de ligação Complete\n",
        "\n",
        "complete2 = AgglomerativeClustering(n_clusters=2, affinity='euclidean', linkage='complete')\n",
        "complete3 = AgglomerativeClustering(n_clusters=3, affinity='euclidean', linkage='complete')\n",
        "complete4 = AgglomerativeClustering(n_clusters=4, affinity='euclidean', linkage='complete')\n",
        "complete5 = AgglomerativeClustering(n_clusters=5, affinity='euclidean', linkage='complete')\n",
        "complete6 = AgglomerativeClustering(n_clusters=6, affinity='euclidean', linkage='complete')\n",
        "complete7 = AgglomerativeClustering(n_clusters=7, affinity='euclidean', linkage='complete')\n",
        "complete8 = AgglomerativeClustering(n_clusters=8, affinity='euclidean', linkage='complete')\n",
        "complete9 = AgglomerativeClustering(n_clusters=9, affinity='euclidean', linkage='complete')\n",
        "complete10 = AgglomerativeClustering(n_clusters=10, affinity='euclidean', linkage='complete')\n",
        "\n",
        "complete2.fit(X)\n",
        "complete3.fit(X)\n",
        "complete4.fit(X)\n",
        "complete5.fit(X)\n",
        "complete6.fit(X)\n",
        "complete7.fit(X)\n",
        "complete8.fit(X)\n",
        "complete9.fit(X)\n",
        "complete10.fit(X)\n",
        "\n",
        "\n",
        "#Esquema de ligação Single\n",
        "\n",
        "single2 = AgglomerativeClustering(n_clusters=2, affinity='euclidean', linkage='single') \n",
        "single3 = AgglomerativeClustering(n_clusters=3, affinity='euclidean', linkage='single') \n",
        "single4 = AgglomerativeClustering(n_clusters=4, affinity='euclidean', linkage='single') \n",
        "single5 = AgglomerativeClustering(n_clusters=5, affinity='euclidean', linkage='single') \n",
        "single6 = AgglomerativeClustering(n_clusters=6, affinity='euclidean', linkage='single') \n",
        "single7 = AgglomerativeClustering(n_clusters=7, affinity='euclidean', linkage='single') \n",
        "single8 = AgglomerativeClustering(n_clusters=8, affinity='euclidean', linkage='single') \n",
        "single9 = AgglomerativeClustering(n_clusters=9, affinity='euclidean', linkage='single') \n",
        "single10 = AgglomerativeClustering(n_clusters=10, affinity='euclidean', linkage='single') \n",
        "\n",
        "single2.fit(X)\n",
        "single3.fit(X)\n",
        "single4.fit(X)\n",
        "single5.fit(X)\n",
        "single6.fit(X)\n",
        "single7.fit(X)\n",
        "single8.fit(X)\n",
        "single9.fit(X)\n",
        "single10.fit(X)\n",
        "\n",
        "\n",
        "# Resultados\n",
        "\n",
        "labelsw2 = ward2.labels_\n",
        "labelsw3 = ward3.labels_\n",
        "labelsw4 = ward4.labels_\n",
        "labelsw5 = ward5.labels_\n",
        "labelsw6 = ward6.labels_\n",
        "labelsw7 = ward7.labels_\n",
        "labelsw8 = ward8.labels_\n",
        "labelsw9 = ward9.labels_\n",
        "labelsw10 = ward10.labels_\n",
        "\n",
        "labelsc2 = complete2.labels_\n",
        "labelsc3 = complete3.labels_\n",
        "labelsc4 = complete4.labels_\n",
        "labelsc5 = complete5.labels_\n",
        "labelsc6 = complete6.labels_\n",
        "labelsc7 = complete7.labels_\n",
        "labelsc8 = complete8.labels_\n",
        "labelsc9 = complete9.labels_\n",
        "labelsc10 = complete10.labels_\n",
        "\n",
        "labelss2 = single2.labels_\n",
        "labelss3 = single3.labels_\n",
        "labelss4 = single4.labels_\n",
        "labelss5 = single5.labels_\n",
        "labelss6 = single6.labels_\n",
        "labelss7 = single7.labels_\n",
        "labelss8 = single8.labels_\n",
        "labelss9 = single9.labels_\n",
        "labelss10 = single10.labels_\n",
        "\n",
        "\n",
        "print(\" Ward com 2 Clusters :\", labelsw2, \"\\n Ward com 3 Clusters :\", labelsw3,\"\\n Ward com 4 Clusters :\", labelsw4,\"\\n Ward com 5 Clusters :\", labelsw5,\"\\n Ward com 6 Clusters :\", labelsw6,\"\\n Ward com 7 Clusters :\", labelsw7,\"\\n Ward com 8 Clusters :\", labelsw8,\"\\n Ward com 9 Clusters :\", labelsw9,\"\\n Ward com 10 Clusters :\", labelsw10, \"\\n\",\"\\n\")      \n",
        "print(\" Complete com 2 Clusters :\", labelsc2, \"\\n Complete com 3 Clusters :\", labelsc3,\"\\n Complete com 4 Clusters :\", labelsc4,\"\\n Complete com 5 Clusters :\", labelsc5,\"\\n Complete com 6 Clusters :\", labelsc6,\"\\n Complete com 7 Clusters :\", labelsc7,\"\\n Complete com 8 Clusters :\", labelsc8,\"\\n Complete com 9 Clusters :\", labelsc9,\"\\n Complete com 10 Clusters :\", labelsc10, \"\\n\",\"\\n\")      \n",
        "print(\" Single com 2 Clusters :\", labelss2, \"\\n Single com 3 Clusters :\", labelss3,\"\\n Single com 4 Clusters :\", labelss4,\"\\n Single com 5 Clusters :\", labelss5,\"\\n Single com 6 Clusters :\", labelss6,\"\\n Single com 7 Clusters :\", labelss7,\"\\n Single com 8 Clusters :\", labelss8,\"\\n Single com 9 Clusters :\", labelss9,\"\\n Single com 10 Clusters :\", labelss10, \"\\n\",\"\\n\")"
      ],
      "execution_count": 214,
      "outputs": [
        {
          "output_type": "stream",
          "name": "stdout",
          "text": [
            " Ward com 2 Clusters : [0 0 0 0 0 0 0 0 0 0 0 0 0 0 0 0 0 1 0 0 0 0 0 0 0 1] \n",
            " Ward com 3 Clusters : [2 2 2 2 2 2 2 2 2 2 2 0 2 0 0 2 2 1 0 0 0 0 0 0 0 1] \n",
            " Ward com 4 Clusters : [2 2 2 2 2 2 2 2 2 2 2 1 2 1 1 2 2 0 1 3 3 3 1 1 1 0] \n",
            " Ward com 5 Clusters : [0 0 0 0 0 0 0 0 0 0 0 1 0 1 1 0 0 4 1 3 3 3 1 1 1 2] \n",
            " Ward com 6 Clusters : [1 1 1 2 1 2 2 1 1 1 1 0 1 0 0 1 2 4 0 3 3 3 0 0 0 5] \n",
            " Ward com 7 Clusters : [0 0 0 6 0 6 6 0 0 0 0 1 0 1 1 0 6 4 2 3 3 3 2 2 2 5] \n",
            " Ward com 8 Clusters : [1 1 1 6 7 6 6 1 7 7 7 0 1 0 0 1 6 4 2 3 3 3 2 2 2 5] \n",
            " Ward com 9 Clusters : [1 1 1 2 7 2 2 1 7 7 7 6 1 6 8 1 2 4 0 3 3 3 0 0 0 5] \n",
            " Ward com 10 Clusters : [1 1 1 0 7 0 0 1 7 7 7 6 1 6 8 1 0 9 2 3 3 3 2 2 4 5] \n",
            " \n",
            "\n",
            " Complete com 2 Clusters : [0 0 0 0 0 0 0 0 0 0 0 0 0 0 0 0 0 1 0 0 0 0 0 0 0 1] \n",
            " Complete com 3 Clusters : [0 0 0 0 0 0 0 0 0 0 0 0 0 0 0 0 0 1 0 2 2 2 0 0 0 1] \n",
            " Complete com 4 Clusters : [3 3 3 1 3 1 1 3 3 3 3 1 3 1 1 3 1 0 1 2 2 2 1 1 1 0] \n",
            " Complete com 5 Clusters : [1 1 1 0 1 0 0 1 1 1 1 0 1 0 0 1 0 4 0 2 2 2 0 0 0 3] \n",
            " Complete com 6 Clusters : [1 1 1 0 1 0 0 1 1 1 1 2 1 2 0 1 0 4 2 5 5 5 2 2 2 3] \n",
            " Complete com 7 Clusters : [1 1 1 2 1 2 2 1 1 1 1 0 1 0 6 1 2 4 0 5 5 5 0 0 0 3] \n",
            " Complete com 8 Clusters : [0 0 0 2 0 2 2 0 0 0 0 1 0 1 6 0 2 4 1 5 5 5 1 1 7 3] \n",
            " Complete com 9 Clusters : [2 2 2 0 3 0 0 2 3 3 3 1 2 1 6 2 0 4 1 5 5 5 1 1 7 8] \n",
            " Complete com 10 Clusters : [2 2 2 1 3 1 9 2 3 3 3 0 2 0 6 2 1 4 0 5 5 5 0 0 7 8] \n",
            " \n",
            "\n",
            " Single com 2 Clusters : [0 0 0 0 0 0 0 0 0 0 0 0 0 0 0 0 0 1 0 0 0 0 0 0 0 0] \n",
            " Single com 3 Clusters : [0 0 0 0 0 0 0 0 0 0 0 0 0 0 0 0 0 1 0 0 0 0 0 0 0 2] \n",
            " Single com 4 Clusters : [0 0 0 0 0 0 0 0 0 0 0 0 0 0 3 0 0 1 0 0 0 0 0 0 0 2] \n",
            " Single com 5 Clusters : [0 0 0 0 0 0 0 0 0 0 0 0 0 0 3 0 0 4 1 1 1 1 1 1 1 2] \n",
            " Single com 6 Clusters : [2 2 2 2 2 2 4 2 2 2 2 2 2 2 3 2 2 1 0 0 0 0 0 0 0 5] \n",
            " Single com 7 Clusters : [2 2 2 2 2 2 4 2 2 2 2 2 2 2 3 2 2 1 0 0 0 0 0 0 6 5] \n",
            " Single com 8 Clusters : [0 0 0 0 0 0 4 0 0 0 0 0 0 0 7 0 0 3 1 1 1 5 1 1 6 2] \n",
            " Single com 9 Clusters : [0 0 0 0 0 3 4 0 0 0 0 3 0 3 7 0 0 8 1 1 1 5 1 1 6 2] \n",
            " Single com 10 Clusters : [0 0 0 0 0 3 9 0 0 0 0 3 4 3 7 0 0 8 1 1 1 5 1 1 6 2] \n",
            " \n",
            "\n"
          ]
        }
      ]
    },
    {
      "cell_type": "code",
      "source": [
        "df['Cluster'] = labelsw3\n",
        "df.head()\n",
        "\n",
        "df.groupby('Cluster').mean()"
      ],
      "metadata": {
        "id": "_egAlKTTPtZy",
        "outputId": "4c6fc63d-8ce7-4782-ae01-cf475f1d240e",
        "colab": {
          "base_uri": "https://localhost:8080/",
          "height": 175
        }
      },
      "execution_count": 215,
      "outputs": [
        {
          "output_type": "execute_result",
          "data": {
            "text/plain": [
              "               Agr   Min        Man        PS       Con         SI       Fin  \\\n",
              "Cluster                                                                        \n",
              "0        24.760000  1.85  29.080000  0.900000  8.670000   9.180000  2.000000   \n",
              "1        57.750000  1.10  12.350000  0.600000  3.850000   5.800000  6.200000   \n",
              "2         9.592857  0.85  27.621429  0.957143  8.421429  16.678571  5.114286   \n",
              "\n",
              "               SPS    TC  \n",
              "Cluster                   \n",
              "0        16.630000  6.92  \n",
              "1         8.600000  3.60  \n",
              "2        24.078571  6.70  "
            ],
            "text/html": [
              "\n",
              "  <div id=\"df-4522bc55-cfa0-4411-8492-486ab787d91f\">\n",
              "    <div class=\"colab-df-container\">\n",
              "      <div>\n",
              "<style scoped>\n",
              "    .dataframe tbody tr th:only-of-type {\n",
              "        vertical-align: middle;\n",
              "    }\n",
              "\n",
              "    .dataframe tbody tr th {\n",
              "        vertical-align: top;\n",
              "    }\n",
              "\n",
              "    .dataframe thead th {\n",
              "        text-align: right;\n",
              "    }\n",
              "</style>\n",
              "<table border=\"1\" class=\"dataframe\">\n",
              "  <thead>\n",
              "    <tr style=\"text-align: right;\">\n",
              "      <th></th>\n",
              "      <th>Agr</th>\n",
              "      <th>Min</th>\n",
              "      <th>Man</th>\n",
              "      <th>PS</th>\n",
              "      <th>Con</th>\n",
              "      <th>SI</th>\n",
              "      <th>Fin</th>\n",
              "      <th>SPS</th>\n",
              "      <th>TC</th>\n",
              "    </tr>\n",
              "    <tr>\n",
              "      <th>Cluster</th>\n",
              "      <th></th>\n",
              "      <th></th>\n",
              "      <th></th>\n",
              "      <th></th>\n",
              "      <th></th>\n",
              "      <th></th>\n",
              "      <th></th>\n",
              "      <th></th>\n",
              "      <th></th>\n",
              "    </tr>\n",
              "  </thead>\n",
              "  <tbody>\n",
              "    <tr>\n",
              "      <th>0</th>\n",
              "      <td>24.760000</td>\n",
              "      <td>1.85</td>\n",
              "      <td>29.080000</td>\n",
              "      <td>0.900000</td>\n",
              "      <td>8.670000</td>\n",
              "      <td>9.180000</td>\n",
              "      <td>2.000000</td>\n",
              "      <td>16.630000</td>\n",
              "      <td>6.92</td>\n",
              "    </tr>\n",
              "    <tr>\n",
              "      <th>1</th>\n",
              "      <td>57.750000</td>\n",
              "      <td>1.10</td>\n",
              "      <td>12.350000</td>\n",
              "      <td>0.600000</td>\n",
              "      <td>3.850000</td>\n",
              "      <td>5.800000</td>\n",
              "      <td>6.200000</td>\n",
              "      <td>8.600000</td>\n",
              "      <td>3.60</td>\n",
              "    </tr>\n",
              "    <tr>\n",
              "      <th>2</th>\n",
              "      <td>9.592857</td>\n",
              "      <td>0.85</td>\n",
              "      <td>27.621429</td>\n",
              "      <td>0.957143</td>\n",
              "      <td>8.421429</td>\n",
              "      <td>16.678571</td>\n",
              "      <td>5.114286</td>\n",
              "      <td>24.078571</td>\n",
              "      <td>6.70</td>\n",
              "    </tr>\n",
              "  </tbody>\n",
              "</table>\n",
              "</div>\n",
              "      <button class=\"colab-df-convert\" onclick=\"convertToInteractive('df-4522bc55-cfa0-4411-8492-486ab787d91f')\"\n",
              "              title=\"Convert this dataframe to an interactive table.\"\n",
              "              style=\"display:none;\">\n",
              "        \n",
              "  <svg xmlns=\"http://www.w3.org/2000/svg\" height=\"24px\"viewBox=\"0 0 24 24\"\n",
              "       width=\"24px\">\n",
              "    <path d=\"M0 0h24v24H0V0z\" fill=\"none\"/>\n",
              "    <path d=\"M18.56 5.44l.94 2.06.94-2.06 2.06-.94-2.06-.94-.94-2.06-.94 2.06-2.06.94zm-11 1L8.5 8.5l.94-2.06 2.06-.94-2.06-.94L8.5 2.5l-.94 2.06-2.06.94zm10 10l.94 2.06.94-2.06 2.06-.94-2.06-.94-.94-2.06-.94 2.06-2.06.94z\"/><path d=\"M17.41 7.96l-1.37-1.37c-.4-.4-.92-.59-1.43-.59-.52 0-1.04.2-1.43.59L10.3 9.45l-7.72 7.72c-.78.78-.78 2.05 0 2.83L4 21.41c.39.39.9.59 1.41.59.51 0 1.02-.2 1.41-.59l7.78-7.78 2.81-2.81c.8-.78.8-2.07 0-2.86zM5.41 20L4 18.59l7.72-7.72 1.47 1.35L5.41 20z\"/>\n",
              "  </svg>\n",
              "      </button>\n",
              "      \n",
              "  <style>\n",
              "    .colab-df-container {\n",
              "      display:flex;\n",
              "      flex-wrap:wrap;\n",
              "      gap: 12px;\n",
              "    }\n",
              "\n",
              "    .colab-df-convert {\n",
              "      background-color: #E8F0FE;\n",
              "      border: none;\n",
              "      border-radius: 50%;\n",
              "      cursor: pointer;\n",
              "      display: none;\n",
              "      fill: #1967D2;\n",
              "      height: 32px;\n",
              "      padding: 0 0 0 0;\n",
              "      width: 32px;\n",
              "    }\n",
              "\n",
              "    .colab-df-convert:hover {\n",
              "      background-color: #E2EBFA;\n",
              "      box-shadow: 0px 1px 2px rgba(60, 64, 67, 0.3), 0px 1px 3px 1px rgba(60, 64, 67, 0.15);\n",
              "      fill: #174EA6;\n",
              "    }\n",
              "\n",
              "    [theme=dark] .colab-df-convert {\n",
              "      background-color: #3B4455;\n",
              "      fill: #D2E3FC;\n",
              "    }\n",
              "\n",
              "    [theme=dark] .colab-df-convert:hover {\n",
              "      background-color: #434B5C;\n",
              "      box-shadow: 0px 1px 3px 1px rgba(0, 0, 0, 0.15);\n",
              "      filter: drop-shadow(0px 1px 2px rgba(0, 0, 0, 0.3));\n",
              "      fill: #FFFFFF;\n",
              "    }\n",
              "  </style>\n",
              "\n",
              "      <script>\n",
              "        const buttonEl =\n",
              "          document.querySelector('#df-4522bc55-cfa0-4411-8492-486ab787d91f button.colab-df-convert');\n",
              "        buttonEl.style.display =\n",
              "          google.colab.kernel.accessAllowed ? 'block' : 'none';\n",
              "\n",
              "        async function convertToInteractive(key) {\n",
              "          const element = document.querySelector('#df-4522bc55-cfa0-4411-8492-486ab787d91f');\n",
              "          const dataTable =\n",
              "            await google.colab.kernel.invokeFunction('convertToInteractive',\n",
              "                                                     [key], {});\n",
              "          if (!dataTable) return;\n",
              "\n",
              "          const docLinkHtml = 'Like what you see? Visit the ' +\n",
              "            '<a target=\"_blank\" href=https://colab.research.google.com/notebooks/data_table.ipynb>data table notebook</a>'\n",
              "            + ' to learn more about interactive tables.';\n",
              "          element.innerHTML = '';\n",
              "          dataTable['output_type'] = 'display_data';\n",
              "          await google.colab.output.renderOutput(dataTable, element);\n",
              "          const docLink = document.createElement('div');\n",
              "          docLink.innerHTML = docLinkHtml;\n",
              "          element.appendChild(docLink);\n",
              "        }\n",
              "      </script>\n",
              "    </div>\n",
              "  </div>\n",
              "  "
            ]
          },
          "metadata": {},
          "execution_count": 215
        }
      ]
    },
    {
      "cell_type": "code",
      "source": [
        "g = pd.DataFrame( df.groupby('Cluster').mean() ).reset_index()\n",
        "\n",
        "fig, ax = plt.subplots(1,2,figsize=(12,4),sharey=True)\n",
        "\n",
        "\n",
        "for i in range(len(g)):\n",
        "  sns.barplot(data=g[g.Cluster==i].drop(columns='Cluster'),ax=ax[i])\n",
        "  ax[i].set_title('Grupo ' + str(i) + ' : \\n', fontsize=14, weight='bold')\n",
        "\n",
        "plt.show()"
      ],
      "metadata": {
        "id": "3TS8U-aMV5Jk",
        "outputId": "33d8b662-48d9-43f6-a3f3-096acdac874d",
        "colab": {
          "base_uri": "https://localhost:8080/",
          "height": 517
        }
      },
      "execution_count": 216,
      "outputs": [
        {
          "output_type": "error",
          "ename": "IndexError",
          "evalue": "ignored",
          "traceback": [
            "\u001b[0;31m---------------------------------------------------------------------------\u001b[0m",
            "\u001b[0;31mIndexError\u001b[0m                                Traceback (most recent call last)",
            "\u001b[0;32m<ipython-input-216-d8fd62326f6b>\u001b[0m in \u001b[0;36m<module>\u001b[0;34m\u001b[0m\n\u001b[1;32m      5\u001b[0m \u001b[0;34m\u001b[0m\u001b[0m\n\u001b[1;32m      6\u001b[0m \u001b[0;32mfor\u001b[0m \u001b[0mi\u001b[0m \u001b[0;32min\u001b[0m \u001b[0mrange\u001b[0m\u001b[0;34m(\u001b[0m\u001b[0mlen\u001b[0m\u001b[0;34m(\u001b[0m\u001b[0mg\u001b[0m\u001b[0;34m)\u001b[0m\u001b[0;34m)\u001b[0m\u001b[0;34m:\u001b[0m\u001b[0;34m\u001b[0m\u001b[0;34m\u001b[0m\u001b[0m\n\u001b[0;32m----> 7\u001b[0;31m   \u001b[0msns\u001b[0m\u001b[0;34m.\u001b[0m\u001b[0mbarplot\u001b[0m\u001b[0;34m(\u001b[0m\u001b[0mdata\u001b[0m\u001b[0;34m=\u001b[0m\u001b[0mg\u001b[0m\u001b[0;34m[\u001b[0m\u001b[0mg\u001b[0m\u001b[0;34m.\u001b[0m\u001b[0mCluster\u001b[0m\u001b[0;34m==\u001b[0m\u001b[0mi\u001b[0m\u001b[0;34m]\u001b[0m\u001b[0;34m.\u001b[0m\u001b[0mdrop\u001b[0m\u001b[0;34m(\u001b[0m\u001b[0mcolumns\u001b[0m\u001b[0;34m=\u001b[0m\u001b[0;34m'Cluster'\u001b[0m\u001b[0;34m)\u001b[0m\u001b[0;34m,\u001b[0m\u001b[0max\u001b[0m\u001b[0;34m=\u001b[0m\u001b[0max\u001b[0m\u001b[0;34m[\u001b[0m\u001b[0mi\u001b[0m\u001b[0;34m]\u001b[0m\u001b[0;34m)\u001b[0m\u001b[0;34m\u001b[0m\u001b[0;34m\u001b[0m\u001b[0m\n\u001b[0m\u001b[1;32m      8\u001b[0m   \u001b[0max\u001b[0m\u001b[0;34m[\u001b[0m\u001b[0mi\u001b[0m\u001b[0;34m]\u001b[0m\u001b[0;34m.\u001b[0m\u001b[0mset_title\u001b[0m\u001b[0;34m(\u001b[0m\u001b[0;34m'Grupo '\u001b[0m \u001b[0;34m+\u001b[0m \u001b[0mstr\u001b[0m\u001b[0;34m(\u001b[0m\u001b[0mi\u001b[0m\u001b[0;34m)\u001b[0m \u001b[0;34m+\u001b[0m \u001b[0;34m' : \\n'\u001b[0m\u001b[0;34m,\u001b[0m \u001b[0mfontsize\u001b[0m\u001b[0;34m=\u001b[0m\u001b[0;36m14\u001b[0m\u001b[0;34m,\u001b[0m \u001b[0mweight\u001b[0m\u001b[0;34m=\u001b[0m\u001b[0;34m'bold'\u001b[0m\u001b[0;34m)\u001b[0m\u001b[0;34m\u001b[0m\u001b[0;34m\u001b[0m\u001b[0m\n\u001b[1;32m      9\u001b[0m \u001b[0;34m\u001b[0m\u001b[0m\n",
            "\u001b[0;31mIndexError\u001b[0m: index 2 is out of bounds for axis 0 with size 2"
          ]
        },
        {
          "output_type": "display_data",
          "data": {
            "text/plain": [
              "<Figure size 864x288 with 2 Axes>"
            ],
            "image/png": "[encoded data removed]"
          },
          "metadata": {
            "needs_background": "light"
          }
        }
      ]
    },
    {
      "cell_type": "markdown",
      "metadata": {
        "id": "IseBYJx1aCxl"
      },
      "source": [
        "## Clusterização, 3 Clusters\n",
        "\n",
        "O número de clusters não segue um único critério e normalmente é feita uma análise conjunta de várias métricas. Métodos não supervisionados são analíticos e é esperado que você analise as mátricas e resultados para uma *solução*. \n",
        "\n",
        "(Moodle) **Q3**. Verifique a *distribuição* da quantidade de elementos no modelo que fornece o melhor número de silhueta. Qual é essa distribuição e responda se essa é uma clusterização útil e adequada.\n",
        "\n",
        "> Note, por exemplo a distribuição de 100, 43, 8 para 3 grupos é uma distribuição melhor que 100, 50, 1 e podemos considerar neste último caso que o grupo com 1 elemento é um *outlier*.\n",
        "\n"
      ]
    },
    {
      "cell_type": "markdown",
      "source": [
        "Após verificar a quantidade de elementos, o melhor resultado foi obtido através do Ward (Padrão), porém, mesmo assim, existem clusters que possuem mais força por exemplo que outros. "
      ],
      "metadata": {
        "id": "sPwipuxJU8rq"
      }
    },
    {
      "cell_type": "markdown",
      "metadata": {
        "id": "o2JAOE04-i2M"
      },
      "source": [
        "## Clusterização `Kmeans`,  $K=3$.\n",
        "\n",
        "Vamos considerar que nossa análise ao final leva ao uso do Kmeans para 3 grupos de dados. De fato essa parece ser a melhor opção embora não tenhamos explorado isso aqui. Verique que a distribuição dos dados é de fato melhor e analise para esse modelo os valores médios dos grupos e os países pertencentes a cada grupo.\n",
        "\n",
        "(Moodle) **Q4**. Há um grupo que se caracteriza por um % médio maior da força de trabalho empregada na agricultura. Qual esse percentual e que países fazem parte dele? \n",
        "\n",
        "(Moodle) **Q5**. Excetuando o grupo o com % médio maior da força de trabalho empregada na agricultura e esse indicador, o que mais se destaca em diferenciar os outros dois grupos?\n",
        "\n",
        "> Empregue `random_state= 1234` no `KMeans`. Não empregue outros parâmetros não solicitados.\n",
        "\n"
      ]
    },
    {
      "cell_type": "code",
      "metadata": {
        "id": "Smgi9ZPaea0q",
        "outputId": "3b38bfdd-825f-4648-b3b5-e899cd4885f2",
        "colab": {
          "base_uri": "https://localhost:8080/"
        }
      },
      "source": [
        "from sklearn.preprocessing import StandardScaler\n",
        "\n",
        "# Configura e instancia o estimador \n",
        "clf = KMeans(n_clusters = 3 , random_state= 1234)  # seed, para a reprodutibilidade dos resultados\n",
        "\n",
        "# Ajusta o estimador aos dados\n",
        "clf.fit(X) # somente os atributos Murder e UrbanPop\n",
        "\n",
        "# Obtém os resultados do modelo\n",
        "labels = clf.labels_\n",
        "centroids = clf.cluster_centers_\n",
        "\n",
        "print(labels)\n",
        "print(centroids)"
      ],
      "execution_count": 220,
      "outputs": [
        {
          "output_type": "stream",
          "name": "stdout",
          "text": [
            "[1 1 1 1 1 1 1 1 1 1 1 0 1 1 1 1 1 0 2 2 2 2 2 2 2 0]\n",
            "[[ 2.17579264 -0.33695415 -1.87839051 -0.83405766 -1.79639567 -1.17191669\n",
            "   0.33913963 -1.58626377 -1.40190152]\n",
            " [-0.49645361 -0.46398587  0.06891443  0.02997395  0.27708668  0.68508261\n",
            "   0.42695257  0.42212305  0.01198006]\n",
            " [ 0.20226856  1.20494805  0.6475058   0.2889414   0.13654287 -1.06365309\n",
            "  -1.12123713 -0.28502536  0.57343195]]\n"
          ]
        }
      ]
    },
    {
      "cell_type": "code",
      "metadata": {
        "id": "B0GCFnpu-Lqc",
        "outputId": "a1800697-f7e9-48e7-e836-f6809377749b",
        "colab": {
          "base_uri": "https://localhost:8080/"
        }
      },
      "source": [
        "df = pd.read_csv('http://meusite.mackenzie.br/rogerio/data_load/Eurojobs.csv')\n",
        "df['Cluster'] = labels\n",
        "print(df.head())"
      ],
      "execution_count": 221,
      "outputs": [
        {
          "output_type": "stream",
          "name": "stdout",
          "text": [
            "      Country   Agr  Min   Man   PS  Con    SI  Fin   SPS   TC  Cluster\n",
            "0     Belgium   3.3  0.9  27.6  0.9  8.2  19.1  6.2  26.6  7.2        1\n",
            "1     Denmark   9.2  0.1  21.8  0.6  8.3  14.6  6.5  32.2  7.1        1\n",
            "2      France  10.8  0.8  27.5  0.9  8.9  16.8  6.0  22.6  5.7        1\n",
            "3  W. Germany   6.7  1.3  35.8  0.9  7.3  14.4  5.0  22.3  6.1        1\n",
            "4     Ireland  23.2  1.0  20.7  1.3  7.5  16.8  2.8  20.8  6.1        1\n"
          ]
        }
      ]
    },
    {
      "cell_type": "code",
      "metadata": {
        "id": "NYyTx8dP-OXc",
        "outputId": "10e9841a-2c5f-4aae-e611-a82ba4b6ce38",
        "colab": {
          "base_uri": "https://localhost:8080/",
          "height": 282
        }
      },
      "source": [
        "sns.countplot(x=labels)\n",
        "plt.title('Kmeans Group Sizes', fontsize=14, weight='bold')\n",
        "plt.show()"
      ],
      "execution_count": 222,
      "outputs": [
        {
          "output_type": "display_data",
          "data": {
            "text/plain": [
              "<Figure size 432x288 with 1 Axes>"
            ],
            "image/png": "[encoded data removed]"
          },
          "metadata": {
            "needs_background": "light"
          }
        }
      ]
    },
    {
      "cell_type": "code",
      "source": [
        "df.groupby('Cluster').mean()"
      ],
      "metadata": {
        "id": "U2dYqgmdYVbx",
        "outputId": "6c5bef93-59d0-4b81-8ada-b438c7273acb",
        "colab": {
          "base_uri": "https://localhost:8080/",
          "height": 175
        }
      },
      "execution_count": 225,
      "outputs": [
        {
          "output_type": "execute_result",
          "data": {
            "text/plain": [
              "               Agr       Min        Man        PS       Con         SI  \\\n",
              "Cluster                                                                  \n",
              "0        52.300000  0.933333  14.100000  0.600000  5.266667   7.700000   \n",
              "1        11.562500  0.812500  27.481250  0.918750  8.612500  16.031250   \n",
              "2        22.214286  2.400000  31.457143  1.014286  8.385714   8.185714   \n",
              "\n",
              "              Fin        SPS        TC  \n",
              "Cluster                                 \n",
              "0        4.933333   9.400000  4.633333  \n",
              "1        5.175000  22.850000  6.562500  \n",
              "2        0.914286  18.114286  7.328571  "
            ],
            "text/html": [
              "\n",
              "  <div id=\"df-6adf3e99-35b0-459a-8a61-4e3b52b9c5f1\">\n",
              "    <div class=\"colab-df-container\">\n",
              "      <div>\n",
              "<style scoped>\n",
              "    .dataframe tbody tr th:only-of-type {\n",
              "        vertical-align: middle;\n",
              "    }\n",
              "\n",
              "    .dataframe tbody tr th {\n",
              "        vertical-align: top;\n",
              "    }\n",
              "\n",
              "    .dataframe thead th {\n",
              "        text-align: right;\n",
              "    }\n",
              "</style>\n",
              "<table border=\"1\" class=\"dataframe\">\n",
              "  <thead>\n",
              "    <tr style=\"text-align: right;\">\n",
              "      <th></th>\n",
              "      <th>Agr</th>\n",
              "      <th>Min</th>\n",
              "      <th>Man</th>\n",
              "      <th>PS</th>\n",
              "      <th>Con</th>\n",
              "      <th>SI</th>\n",
              "      <th>Fin</th>\n",
              "      <th>SPS</th>\n",
              "      <th>TC</th>\n",
              "    </tr>\n",
              "    <tr>\n",
              "      <th>Cluster</th>\n",
              "      <th></th>\n",
              "      <th></th>\n",
              "      <th></th>\n",
              "      <th></th>\n",
              "      <th></th>\n",
              "      <th></th>\n",
              "      <th></th>\n",
              "      <th></th>\n",
              "      <th></th>\n",
              "    </tr>\n",
              "  </thead>\n",
              "  <tbody>\n",
              "    <tr>\n",
              "      <th>0</th>\n",
              "      <td>52.300000</td>\n",
              "      <td>0.933333</td>\n",
              "      <td>14.100000</td>\n",
              "      <td>0.600000</td>\n",
              "      <td>5.266667</td>\n",
              "      <td>7.700000</td>\n",
              "      <td>4.933333</td>\n",
              "      <td>9.400000</td>\n",
              "      <td>4.633333</td>\n",
              "    </tr>\n",
              "    <tr>\n",
              "      <th>1</th>\n",
              "      <td>11.562500</td>\n",
              "      <td>0.812500</td>\n",
              "      <td>27.481250</td>\n",
              "      <td>0.918750</td>\n",
              "      <td>8.612500</td>\n",
              "      <td>16.031250</td>\n",
              "      <td>5.175000</td>\n",
              "      <td>22.850000</td>\n",
              "      <td>6.562500</td>\n",
              "    </tr>\n",
              "    <tr>\n",
              "      <th>2</th>\n",
              "      <td>22.214286</td>\n",
              "      <td>2.400000</td>\n",
              "      <td>31.457143</td>\n",
              "      <td>1.014286</td>\n",
              "      <td>8.385714</td>\n",
              "      <td>8.185714</td>\n",
              "      <td>0.914286</td>\n",
              "      <td>18.114286</td>\n",
              "      <td>7.328571</td>\n",
              "    </tr>\n",
              "  </tbody>\n",
              "</table>\n",
              "</div>\n",
              "      <button class=\"colab-df-convert\" onclick=\"convertToInteractive('df-6adf3e99-35b0-459a-8a61-4e3b52b9c5f1')\"\n",
              "              title=\"Convert this dataframe to an interactive table.\"\n",
              "              style=\"display:none;\">\n",
              "        \n",
              "  <svg xmlns=\"http://www.w3.org/2000/svg\" height=\"24px\"viewBox=\"0 0 24 24\"\n",
              "       width=\"24px\">\n",
              "    <path d=\"M0 0h24v24H0V0z\" fill=\"none\"/>\n",
              "    <path d=\"M18.56 5.44l.94 2.06.94-2.06 2.06-.94-2.06-.94-.94-2.06-.94 2.06-2.06.94zm-11 1L8.5 8.5l.94-2.06 2.06-.94-2.06-.94L8.5 2.5l-.94 2.06-2.06.94zm10 10l.94 2.06.94-2.06 2.06-.94-2.06-.94-.94-2.06-.94 2.06-2.06.94z\"/><path d=\"M17.41 7.96l-1.37-1.37c-.4-.4-.92-.59-1.43-.59-.52 0-1.04.2-1.43.59L10.3 9.45l-7.72 7.72c-.78.78-.78 2.05 0 2.83L4 21.41c.39.39.9.59 1.41.59.51 0 1.02-.2 1.41-.59l7.78-7.78 2.81-2.81c.8-.78.8-2.07 0-2.86zM5.41 20L4 18.59l7.72-7.72 1.47 1.35L5.41 20z\"/>\n",
              "  </svg>\n",
              "      </button>\n",
              "      \n",
              "  <style>\n",
              "    .colab-df-container {\n",
              "      display:flex;\n",
              "      flex-wrap:wrap;\n",
              "      gap: 12px;\n",
              "    }\n",
              "\n",
              "    .colab-df-convert {\n",
              "      background-color: #E8F0FE;\n",
              "      border: none;\n",
              "      border-radius: 50%;\n",
              "      cursor: pointer;\n",
              "      display: none;\n",
              "      fill: #1967D2;\n",
              "      height: 32px;\n",
              "      padding: 0 0 0 0;\n",
              "      width: 32px;\n",
              "    }\n",
              "\n",
              "    .colab-df-convert:hover {\n",
              "      background-color: #E2EBFA;\n",
              "      box-shadow: 0px 1px 2px rgba(60, 64, 67, 0.3), 0px 1px 3px 1px rgba(60, 64, 67, 0.15);\n",
              "      fill: #174EA6;\n",
              "    }\n",
              "\n",
              "    [theme=dark] .colab-df-convert {\n",
              "      background-color: #3B4455;\n",
              "      fill: #D2E3FC;\n",
              "    }\n",
              "\n",
              "    [theme=dark] .colab-df-convert:hover {\n",
              "      background-color: #434B5C;\n",
              "      box-shadow: 0px 1px 3px 1px rgba(0, 0, 0, 0.15);\n",
              "      filter: drop-shadow(0px 1px 2px rgba(0, 0, 0, 0.3));\n",
              "      fill: #FFFFFF;\n",
              "    }\n",
              "  </style>\n",
              "\n",
              "      <script>\n",
              "        const buttonEl =\n",
              "          document.querySelector('#df-6adf3e99-35b0-459a-8a61-4e3b52b9c5f1 button.colab-df-convert');\n",
              "        buttonEl.style.display =\n",
              "          google.colab.kernel.accessAllowed ? 'block' : 'none';\n",
              "\n",
              "        async function convertToInteractive(key) {\n",
              "          const element = document.querySelector('#df-6adf3e99-35b0-459a-8a61-4e3b52b9c5f1');\n",
              "          const dataTable =\n",
              "            await google.colab.kernel.invokeFunction('convertToInteractive',\n",
              "                                                     [key], {});\n",
              "          if (!dataTable) return;\n",
              "\n",
              "          const docLinkHtml = 'Like what you see? Visit the ' +\n",
              "            '<a target=\"_blank\" href=https://colab.research.google.com/notebooks/data_table.ipynb>data table notebook</a>'\n",
              "            + ' to learn more about interactive tables.';\n",
              "          element.innerHTML = '';\n",
              "          dataTable['output_type'] = 'display_data';\n",
              "          await google.colab.output.renderOutput(dataTable, element);\n",
              "          const docLink = document.createElement('div');\n",
              "          docLink.innerHTML = docLinkHtml;\n",
              "          element.appendChild(docLink);\n",
              "        }\n",
              "      </script>\n",
              "    </div>\n",
              "  </div>\n",
              "  "
            ]
          },
          "metadata": {},
          "execution_count": 225
        }
      ]
    },
    {
      "cell_type": "code",
      "source": [
        "scaler.inverse_transform(centroids)"
      ],
      "metadata": {
        "id": "1s317bIXYdDX",
        "outputId": "32693150-b4d2-4d82-e05e-92eeb412b889",
        "colab": {
          "base_uri": "https://localhost:8080/"
        }
      },
      "execution_count": 226,
      "outputs": [
        {
          "output_type": "execute_result",
          "data": {
            "text/plain": [
              "array([[52.3       ,  0.93333333, 14.1       ,  0.6       ,  5.26666667,\n",
              "         7.7       ,  4.93333333,  9.4       ,  4.63333333],\n",
              "       [11.5625    ,  0.8125    , 27.48125   ,  0.91875   ,  8.6125    ,\n",
              "        16.03125   ,  5.175     , 22.85      ,  6.5625    ],\n",
              "       [22.21428571,  2.4       , 31.45714286,  1.01428571,  8.38571429,\n",
              "         8.18571429,  0.91428571, 18.11428571,  7.32857143]])"
            ]
          },
          "metadata": {},
          "execution_count": 226
        }
      ]
    },
    {
      "cell_type": "code",
      "source": [
        "f = plt.figure(figsize=(10,10))\n",
        "\n",
        "real_centroids = scaler.inverse_transform(centroids)\n",
        "\n",
        "plt.scatter( x = 'Agr' ,y = 'Country' , data = df , c = df.Cluster , s = 200 )\n",
        "plt.scatter(x = real_centroids[: , 1] , y =  real_centroids[: , 2] , s = 500 , c = 'red' ,  marker='+')\n",
        "\n",
        "for line in range(0,df.shape[0]):\n",
        "     plt.text(df.Agr[line], df.Country[line], df.index[line], \n",
        "              horizontalalignment='center', \n",
        "              size='large', \n",
        "              color='black')\n",
        "     \n",
        "plt.title('Paises com força de trabalho', fontsize=14, weight='bold')\n",
        "plt.ylabel('Country') , plt.xlabel('Agr')\n",
        "plt.show()"
      ],
      "metadata": {
        "id": "q7-xa9AZYfMw",
        "outputId": "ac99b31a-96a1-4bf4-cd74-447126e58387",
        "colab": {
          "base_uri": "https://localhost:8080/",
          "height": 623
        }
      },
      "execution_count": 230,
      "outputs": [
        {
          "output_type": "display_data",
          "data": {
            "text/plain": [
              "<Figure size 720x720 with 1 Axes>"
            ],
            "image/png": "[encoded data removed]"
          },
          "metadata": {
            "needs_background": "light"
          }
        }
      ]
    },
    {
      "cell_type": "markdown",
      "source": [
        "Estes são os 3 clusters de países infromando a sua força. O que é possível notarmos, que no cluster 2 a media da força é maior, e são países frios."
      ],
      "metadata": {
        "id": "kmyNN3xtY_pL"
      }
    }
  ]
}